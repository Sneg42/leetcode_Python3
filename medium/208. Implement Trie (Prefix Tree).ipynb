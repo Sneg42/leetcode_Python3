{
 "cells": [
  {
   "cell_type": "code",
   "execution_count": 22,
   "metadata": {},
   "outputs": [],
   "source": [
    "class Trie:\n",
    "    \n",
    "    def __init__(self):\n",
    "        self.arr = []\n",
    "    \n",
    "    def insert(self, word):\n",
    "        self.arr.append(word)\n",
    "    \n",
    "    def search(self, word):\n",
    "        for i in self.arr:\n",
    "            if i == word:\n",
    "                return True\n",
    "        return False\n",
    "    \n",
    "    def startsWith(self, prefix):\n",
    "        len_ = len(prefix)\n",
    "        for i in self.arr:\n",
    "            if i[:len_] == prefix:\n",
    "                return True\n",
    "        return False"
   ]
  },
  {
   "cell_type": "code",
   "execution_count": 26,
   "metadata": {},
   "outputs": [],
   "source": [
    "trie = Trie()"
   ]
  },
  {
   "cell_type": "code",
   "execution_count": 27,
   "metadata": {},
   "outputs": [
    {
     "name": "stdout",
     "output_type": "stream",
     "text": [
      "[]\n",
      "True\n",
      "False\n",
      "True\n",
      "True\n",
      "False\n",
      "['apple', 'app']\n"
     ]
    }
   ],
   "source": [
    "print(trie.arr)\n",
    "trie.insert(\"apple\");\n",
    "print(trie.search(\"apple\"));   # returns true\n",
    "print(trie.search(\"app\"));     # returns false\n",
    "print(trie.startsWith(\"app\")); # returns true\n",
    "trie.insert(\"app\");\n",
    "print(trie.search(\"app\"));     # returns true\n",
    "print(trie.startsWith(\"Fapp\")); # returns true\n",
    "print(trie.arr)"
   ]
  },
  {
   "cell_type": "code",
   "execution_count": 19,
   "metadata": {},
   "outputs": [
    {
     "data": {
      "text/plain": [
       "'app'"
      ]
     },
     "execution_count": 19,
     "metadata": {},
     "output_type": "execute_result"
    }
   ],
   "source": [
    "a = \"apple\"\n",
    "a[:3]"
   ]
  },
  {
   "cell_type": "code",
   "execution_count": null,
   "metadata": {},
   "outputs": [],
   "source": []
  },
  {
   "cell_type": "code",
   "execution_count": null,
   "metadata": {},
   "outputs": [],
   "source": []
  },
  {
   "cell_type": "code",
   "execution_count": null,
   "metadata": {},
   "outputs": [],
   "source": []
  },
  {
   "cell_type": "code",
   "execution_count": null,
   "metadata": {},
   "outputs": [],
   "source": []
  },
  {
   "cell_type": "code",
   "execution_count": null,
   "metadata": {},
   "outputs": [],
   "source": []
  },
  {
   "cell_type": "code",
   "execution_count": null,
   "metadata": {},
   "outputs": [],
   "source": []
  },
  {
   "cell_type": "code",
   "execution_count": null,
   "metadata": {},
   "outputs": [],
   "source": []
  }
 ],
 "metadata": {
  "kernelspec": {
   "display_name": "Python 3",
   "language": "python",
   "name": "python3"
  },
  "language_info": {
   "codemirror_mode": {
    "name": "ipython",
    "version": 3
   },
   "file_extension": ".py",
   "mimetype": "text/x-python",
   "name": "python",
   "nbconvert_exporter": "python",
   "pygments_lexer": "ipython3",
   "version": "3.7.7"
  }
 },
 "nbformat": 4,
 "nbformat_minor": 4
}
