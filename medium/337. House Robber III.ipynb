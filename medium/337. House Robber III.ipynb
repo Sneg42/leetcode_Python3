{
 "cells": [
  {
   "cell_type": "code",
   "execution_count": 108,
   "metadata": {},
   "outputs": [],
   "source": [
    "import sys\n",
    "sys.path.append(\"../help_function/\")\n",
    "\n",
    "import Treenode\n",
    "\n",
    "import pandas as pd\n",
    "import numpy as np"
   ]
  },
  {
   "cell_type": "markdown",
   "metadata": {},
   "source": [
    "### 337. House Robber III"
   ]
  },
  {
   "cell_type": "markdown",
   "metadata": {},
   "source": [
    "The essential idea of __DP (Dynamic Programming)__ is observing step-status. As a single node, it has two possible choice, rob it or not.\n",
    "Thus here comes the transition sequence naturally:\n",
    "\n",
    "We do not Rob it, so that we can rob left child and right child either or not, and we get current max profit is\n",
    "```python\n",
    "max(max(\"Rob left\", \"Don't rob left\"), max(\"Rob right\", \"Don't rob right\")\n",
    "```\n",
    "\n",
    "We rob it, so that we can't rob the two child node, and we get the current max profit is simply\n",
    "```python\n",
    "\"Node_Value\" + \"Don't rob left\" + \"Don't rob right\"\n",
    "```\n"
   ]
  },
  {
   "cell_type": "code",
   "execution_count": 151,
   "metadata": {},
   "outputs": [],
   "source": [
    "class Solution:\n",
    "#     def getSumLinesRecur(self, root, arr_lines, line):\n",
    "#         if root == None:\n",
    "#             return\n",
    "# #         if line % 2 == 0:\n",
    "# #             arr_lines[0] += root.val\n",
    "# #         else:\n",
    "# #             arr_lines[1] += root.val\n",
    "            \n",
    "#         if line >= len(arr_lines):\n",
    "#             arr_lines.append(root.val)\n",
    "#         else:\n",
    "#             arr_lines[line] += root.val\n",
    "#         self.getSumLinesRecur(root.left, arr_lines, line+1)\n",
    "#         self.getSumLinesRecur(root.right, arr_lines, line+1)\n",
    "    \n",
    "#     def maxProfit(self, arr):\n",
    "#         max_sum = [0,0]\n",
    "#         for i in arr[::-1]:\n",
    "#             new_max_child = max(max_sum[0], max_sum[1])\n",
    "#             max_sum[0] = i + max_sum[1]\n",
    "#             max_sum[1] = new_max_child\n",
    "#         return max(max_sum)\n",
    "    \n",
    "#     def rob(self, root):\n",
    "#         arr_lines = [0, 0]\n",
    "#         self.getSumLinesRecur(root, arr_lines, 0)\n",
    "#         print(arr_lines)\n",
    "#         return self.maxProfit(arr_lines)\n",
    "\n",
    "    def rob(self, root):\n",
    "        def with_without_rob(root):\n",
    "            if root:\n",
    "                with_l, without_l = with_without_rob(root.left)\n",
    "                with_r, without_r= with_without_rob(root.right)\n",
    "                return (root.val + without_l + without_r, max(with_l, without_l) + max(with_r, without_r))\n",
    "            return(0,0)\n",
    "        return max(with_without_rob(root))"
   ]
  },
  {
   "cell_type": "markdown",
   "metadata": {},
   "source": [
    "### Test"
   ]
  },
  {
   "cell_type": "code",
   "execution_count": 154,
   "metadata": {},
   "outputs": [],
   "source": [
    "# root = Treenode.Treenode(3)\n",
    "# root.left = Treenode.Treenode(4)\n",
    "# root.right = Treenode.Treenode(5)\n",
    "# root.left.right = Treenode.Treenode(3)\n",
    "# root.right.right = Treenode.Treenode(1)\n",
    "# root.right.left = Treenode.Treenode(1)\n",
    "\n",
    "# [4,1,null,2,null,3]\n",
    "root = Treenode.Treenode(4)\n",
    "root.left = Treenode.Treenode(1)\n",
    "root.left.right = Treenode.Treenode(2)\n",
    "root.left.right.right = Treenode.Treenode(3)\n",
    "\n",
    "#[2,1,3,null,4]\n",
    "# root = Treenode.Treenode(2)\n",
    "# root.left = Treenode.Treenode(1)\n",
    "# root.right = Treenode.Treenode(3)\n",
    "# root.left.right = Treenode.Treenode(4)\n"
   ]
  },
  {
   "cell_type": "code",
   "execution_count": 155,
   "metadata": {},
   "outputs": [
    {
     "data": {
      "text/plain": [
       "7"
      ]
     },
     "execution_count": 155,
     "metadata": {},
     "output_type": "execute_result"
    }
   ],
   "source": [
    "test = Solution()\n",
    "test.rob(root)"
   ]
  },
  {
   "cell_type": "code",
   "execution_count": 135,
   "metadata": {},
   "outputs": [
    {
     "data": {
      "text/plain": [
       "[3, 2, 1, 4]"
      ]
     },
     "execution_count": 135,
     "metadata": {},
     "output_type": "execute_result"
    }
   ],
   "source": [
    "ar = [4,1,2,3]\n",
    "ar[::-1]"
   ]
  },
  {
   "cell_type": "code",
   "execution_count": null,
   "metadata": {},
   "outputs": [],
   "source": []
  },
  {
   "cell_type": "code",
   "execution_count": null,
   "metadata": {},
   "outputs": [],
   "source": []
  },
  {
   "cell_type": "code",
   "execution_count": null,
   "metadata": {},
   "outputs": [],
   "source": []
  },
  {
   "cell_type": "code",
   "execution_count": null,
   "metadata": {},
   "outputs": [],
   "source": []
  }
 ],
 "metadata": {
  "kernelspec": {
   "display_name": "Python 3",
   "language": "python",
   "name": "python3"
  },
  "language_info": {
   "codemirror_mode": {
    "name": "ipython",
    "version": 3
   },
   "file_extension": ".py",
   "mimetype": "text/x-python",
   "name": "python",
   "nbconvert_exporter": "python",
   "pygments_lexer": "ipython3",
   "version": "3.7.7"
  }
 },
 "nbformat": 4,
 "nbformat_minor": 4
}
