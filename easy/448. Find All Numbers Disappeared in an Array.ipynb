{
 "cells": [
  {
   "cell_type": "code",
   "execution_count": 19,
   "metadata": {},
   "outputs": [],
   "source": [
    "import sys\n",
    "sys.path.append(\"../help_function/\")"
   ]
  },
  {
   "cell_type": "code",
   "execution_count": 86,
   "metadata": {},
   "outputs": [],
   "source": [
    "def findDisappearNumbers(nums):\n",
    "    arr_disap = []\n",
    "    length = len(nums)\n",
    "    for i in range(length):\n",
    "        # should be correct arr [1,2,3,4,5]\n",
    "        # mark * -1 if nums contain numb, that's why abs\n",
    "        idx = abs(nums[i]) - 1\n",
    "        nums[idx] = abs(nums[idx]) * -1\n",
    "    # check all positive numbers, missed numb (index + 1)\n",
    "    for i in range(length):\n",
    "        if (nums[i] > 0):\n",
    "            arr_disap.append(i+1)\n",
    "    return arr_disap"
   ]
  },
  {
   "cell_type": "code",
   "execution_count": 88,
   "metadata": {},
   "outputs": [
    {
     "name": "stdout",
     "output_type": "stream",
     "text": [
      "3\n",
      "[4, 3, 3, -7, 8, 2, 3, 1]\n",
      "2\n",
      "[4, 3, -3, -7, 8, 2, 3, 1]\n",
      "2\n",
      "[4, 3, -3, -7, 8, 2, 3, 1]\n",
      "6\n",
      "[4, 3, -3, -7, 8, 2, -3, 1]\n",
      "7\n",
      "[4, 3, -3, -7, 8, 2, -3, -1]\n",
      "1\n",
      "[4, -3, -3, -7, 8, 2, -3, -1]\n",
      "2\n",
      "[4, -3, -3, -7, 8, 2, -3, -1]\n",
      "0\n",
      "[-4, -3, -3, -7, 8, 2, -3, -1]\n"
     ]
    },
    {
     "data": {
      "text/plain": [
       "[5, 6]"
      ]
     },
     "execution_count": 88,
     "metadata": {},
     "output_type": "execute_result"
    }
   ],
   "source": [
    "nums = [4,3,3,7,8,2,3,1]\n",
    "# nums = [1,1]\n",
    "# nums = []\n",
    "findDisappearNumbers(nums)"
   ]
  },
  {
   "cell_type": "code",
   "execution_count": null,
   "metadata": {},
   "outputs": [],
   "source": []
  },
  {
   "cell_type": "code",
   "execution_count": null,
   "metadata": {},
   "outputs": [],
   "source": []
  },
  {
   "cell_type": "code",
   "execution_count": null,
   "metadata": {},
   "outputs": [],
   "source": []
  },
  {
   "cell_type": "code",
   "execution_count": null,
   "metadata": {},
   "outputs": [],
   "source": []
  }
 ],
 "metadata": {
  "kernelspec": {
   "display_name": "Python 3",
   "language": "python",
   "name": "python3"
  },
  "language_info": {
   "codemirror_mode": {
    "name": "ipython",
    "version": 3
   },
   "file_extension": ".py",
   "mimetype": "text/x-python",
   "name": "python",
   "nbconvert_exporter": "python",
   "pygments_lexer": "ipython3",
   "version": "3.7.7"
  }
 },
 "nbformat": 4,
 "nbformat_minor": 4
}
