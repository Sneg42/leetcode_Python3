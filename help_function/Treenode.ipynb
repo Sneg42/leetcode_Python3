{
 "cells": [
  {
   "cell_type": "code",
   "execution_count": null,
   "metadata": {},
   "outputs": [],
   "source": [
    "# Definition for a binary tree node.\n",
    "class Treenode:\n",
    "    def __init__(self, val=0, left=None, right=None):\n",
    "        self.val = val\n",
    "        self.left = left\n",
    "        self.right = right\n",
    "    # =====================================================================================\n",
    "    # Function to insert nodes in level order  \n",
    "    def insertLevelOrder(self, arr, root, i, n): \n",
    "        # Base case for recursion. n - len root\n",
    "        if i < n: \n",
    "            temp = Treenode(arr[i])  \n",
    "            root = temp  \n",
    "\n",
    "            # insert left child  \n",
    "            root.left = self.insertLevelOrder(arr, root.left, 2 * i + 1, n)  \n",
    "\n",
    "            # insert right child  \n",
    "            root.right = self.insertLevelOrder(arr, root.right, 2 * i + 2, n) \n",
    "        return root\n",
    "\n",
    "    # Function to print tree nodes in  \n",
    "    # InOrder fashion  \n",
    "    def inOrder(self, root): \n",
    "        if root != None: \n",
    "            self.inOrder(root.left)  \n",
    "            print(root.data,end=\" \")  \n",
    "            self.inOrder(root.right) "
   ]
  }
 ],
 "metadata": {
  "kernelspec": {
   "display_name": "Python 3",
   "language": "python",
   "name": "python3"
  },
  "language_info": {
   "codemirror_mode": {
    "name": "ipython",
    "version": 3
   },
   "file_extension": ".py",
   "mimetype": "text/x-python",
   "name": "python",
   "nbconvert_exporter": "python",
   "pygments_lexer": "ipython3",
   "version": "3.7.7"
  }
 },
 "nbformat": 4,
 "nbformat_minor": 4
}
